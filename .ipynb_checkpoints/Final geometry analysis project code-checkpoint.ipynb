{
 "cells": [
  {
   "cell_type": "code",
   "execution_count": 2,
   "metadata": {},
   "outputs": [
    {
     "name": "stdout",
     "output_type": "stream",
     "text": [
      "O to H1 : 0.969\n",
      "O to H2 : 0.969\n"
     ]
    }
   ],
   "source": [
    "import os\n",
    "import numpy\n",
    "\n",
    "def open_xyz(input_file):\n",
    "    \"\"\" This function opens input_file which is a .xyz file.\n",
    "    Output is atom symbols and atom coordinates and atom number\"\"\"\n",
    "    data = numpy.genfromtxt(fname = input_file, skip_header=2, dtype='unicode')\n",
    "    symbols = data[:,0]\n",
    "    atom_coord_string = data[:,1:4]\n",
    "    coordinates = atom_coord_string.astype(numpy.float)\n",
    "    atom_num = len(data)\n",
    "    return symbols, coordinates, atom_num\n",
    "\n",
    "def bond_check(distance, minimum_length=0, maximum_length=1.5):\n",
    "    \"\"\"This function checks if the distance between two atoms is between minimum_length and maximum_length\n",
    "    If distance is between minimum and maximum length, return value true else returns false\n",
    "    Defaults are minimum_length=0 and maximum_length=1.5\"\"\"\n",
    "    if distance < maximum_length and distance > minimum_length :\n",
    "        value = True\n",
    "    else:\n",
    "        value = False\n",
    "    return value\n",
    "\n",
    "def calculate_distance(atom1_coord, atom2_coord) :\n",
    "    \"\"\"This function takes the coordinates of two atoms and calculates the distance between them\n",
    "       Input:coordinates \n",
    "       Output:Distance\"\"\"\n",
    "    x_distance = atom1_coord[0] - atom2_coord[0]\n",
    "    y_distance = atom1_coord[1] - atom2_coord[1]\n",
    "    z_distance = atom1_coord[2] - atom2_coord[2]\n",
    "    distance = numpy.sqrt((x_distance**2)+(y_distance**2)+(z_distance**2))\n",
    "    return distance\n",
    "\n",
    "water_file_path = os.path.join('data','water.xyz')\n",
    "water_symbols,water_coordinates,water_atom_num = open_xyz(water_file_path)\n",
    "for i in range(0,int(water_atom_num)):\n",
    "    for j in range(0,int(water_atom_num)): \n",
    "         if i < j:\n",
    "            bond_length_12 = calculate_distance(water_coordinates[i], water_coordinates[j])\n",
    "            if bond_check(bond_length_12, maximum_length=1.0) == True:\n",
    "                print(F'{water_symbols[i]} to {water_symbols[j]} : {bond_length_12:0.3f}')\n",
    "#                bond_length_water_file.write(F'{atom1} to {atom2} : {distance:0.3f}\\n')"
   ]
  },
  {
   "cell_type": "code",
   "execution_count": null,
   "metadata": {},
   "outputs": [],
   "source": []
  }
 ],
 "metadata": {
  "kernelspec": {
   "display_name": "Python 3",
   "language": "python",
   "name": "python3"
  },
  "language_info": {
   "codemirror_mode": {
    "name": "ipython",
    "version": 3
   },
   "file_extension": ".py",
   "mimetype": "text/x-python",
   "name": "python",
   "nbconvert_exporter": "python",
   "pygments_lexer": "ipython3",
   "version": "3.7.3"
  }
 },
 "nbformat": 4,
 "nbformat_minor": 2
}
