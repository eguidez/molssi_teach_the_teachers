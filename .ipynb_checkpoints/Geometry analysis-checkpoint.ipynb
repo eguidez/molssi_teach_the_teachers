{
 "cells": [
  {
   "cell_type": "markdown",
   "metadata": {},
   "source": [
    "# Geometry analysis project"
   ]
  },
  {
   "cell_type": "code",
   "execution_count": 25,
   "metadata": {},
   "outputs": [
    {
     "name": "stdout",
     "output_type": "stream",
     "text": [
      "O to H1 : 0.969\n",
      "O to H2 : 0.969\n"
     ]
    }
   ],
   "source": [
    "import os\n",
    "import numpy\n",
    "#Print distances between atoms in water.xyz file in bond_length_water.txt file in data folder\n",
    "water_file_path = os.path.join('data','water.xyz')\n",
    "bond_length_water_file_location = os.path.join('data','bond_length_water.txt')\n",
    "data = numpy.genfromtxt(fname = water_file_path, skip_header=2, dtype='unicode')\n",
    "atom_name = data[:,0]\n",
    "atom_coord_string = data[:,1:4]\n",
    "atom_data = atom_coord_string.astype(numpy.float)\n",
    "atom_num = len(data)\n",
    "\n",
    "bond_length_water_file = open(bond_length_water_file_location,'w+')\n",
    "for i in range(0,int(atom_num)):\n",
    "    for j in range(0,int(atom_num)):\n",
    "# Remove the next line for Geometry analysis project\n",
    "#        if i != j:\n",
    "# Next line for extension \n",
    "         if i < j:\n",
    "            x_dist = atom_data[i,0]-atom_data[j,0]\n",
    "            y_dist = atom_data[i,1]-atom_data[j,1]\n",
    "            z_dist = atom_data[i,2]-atom_data[j,2]\n",
    "            distance = numpy.sqrt((x_dist**2)+(y_dist**2)+(z_dist**2))\n",
    "#next line for extension \n",
    "            if distance <= 1.5:\n",
    "                print(F'{atom_name[i]} to {atom_name[j]} : {distance:0.3f}')\n",
    "                bond_length_water_file.write(F'{atom_name[i]} to {atom_name[j]} : {distance:0.3f}\\n')\n",
    "bond_length_water_file.close()"
   ]
  },
  {
   "cell_type": "code",
   "execution_count": 9,
   "metadata": {},
   "outputs": [],
   "source": [
    "#Define a function\n",
    "#def function_name (parameters) :\n",
    "#    function_code could be multiple lines\n",
    "#    return value_to_return"
   ]
  },
  {
   "cell_type": "code",
   "execution_count": 18,
   "metadata": {},
   "outputs": [],
   "source": [
    "#Function to calculate distance between two atoms\n",
    "#Emphasize students should use the input variable names in function code\n",
    "# Return value should be calculated in function.\n",
    "def calculate_distance(atom1_coord, atom2_coord) :\n",
    "    \"\"\"This function takes the coordinates of two atoms and calculates the distance between them\n",
    "       Input:coordinates \n",
    "       Output:Distance\"\"\"\n",
    "    x_distance = atom1_coord[0] - atom2_coord[0]\n",
    "    y_distance = atom1_coord[1] - atom2_coord[1]\n",
    "    z_distance = atom1_coord[2] - atom2_coord[2]\n",
    "    distance = numpy.sqrt((x_distance**2)+(y_distance**2)+(z_distance**2))\n",
    "    return distance"
   ]
  },
  {
   "cell_type": "code",
   "execution_count": 26,
   "metadata": {},
   "outputs": [
    {
     "name": "stdout",
     "output_type": "stream",
     "text": [
      "O to H1 : 0.969\n",
      "O to H2 : 0.969\n"
     ]
    }
   ],
   "source": [
    "atom_num = len(data)\n",
    "for i in range(0,int(atom_num)):\n",
    "    for j in range(0,int(atom_num)):\n",
    "# Remove the next line for Geometry analysis project\n",
    "#        if i != j:\n",
    "# Next line for extension \n",
    "         if i < j:\n",
    "            bond_length_12 = calculate_distance(atom_data[i], atom_data[j])\n",
    "#next line for extension \n",
    "            if bond_length_12 <= 1.5:\n",
    "                print(F'{atom_name[i]} to {atom_name[j]} : {bond_length_12:0.3f}')\n",
    "#                bond_length_water_file.write(F'{atom1} to {atom2} : {distance:0.3f}\\n')"
   ]
  },
  {
   "cell_type": "code",
   "execution_count": 20,
   "metadata": {},
   "outputs": [
    {
     "name": "stdout",
     "output_type": "stream",
     "text": [
      "Help on function calculate_distance in module __main__:\n",
      "\n",
      "calculate_distance(atom1_coord, atom2_coord)\n",
      "    This function takes the coordinates of two atoms and calculates the distance between them\n",
      "    Input:coordinates \n",
      "    Output:Distance\n",
      "\n"
     ]
    }
   ],
   "source": [
    "help(calculate_distance)"
   ]
  },
  {
   "cell_type": "code",
   "execution_count": 23,
   "metadata": {},
   "outputs": [],
   "source": [
    "#Write a new function called bond_check to check and see if a distance is between 0 and 1.5 A\n",
    "#Returen True or False\n",
    "def bond_check(distance):\n",
    "    \"\"\"This function checks if the distance between two atoms is between 0 and 1.5A\n",
    "    If distance is between 0 and 1.5 A, return valuetrue\n",
    "    If distance is larger than 1.5, return value false\"\"\"\n",
    "    if distance <= 1.5:\n",
    "        value = True\n",
    "    else:\n",
    "        value = False\n",
    "    return value"
   ]
  },
  {
   "cell_type": "code",
   "execution_count": 27,
   "metadata": {},
   "outputs": [
    {
     "name": "stdout",
     "output_type": "stream",
     "text": [
      "O to H1 : 0.969\n",
      "O to H2 : 0.969\n"
     ]
    }
   ],
   "source": [
    "atom_num = len(data)\n",
    "for i in range(0,int(atom_num)):\n",
    "    for j in range(0,int(atom_num)):\n",
    "# Remove the next line for Geometry analysis project\n",
    "#        if i != j:\n",
    "# Next line for extension \n",
    "         if i < j:\n",
    "            bond_length_12 = calculate_distance(atom_data[i], atom_data[j])\n",
    "            bonded_atoms = bond_check(bond_length_12)\n",
    "            if bonded_atoms == True:\n",
    "                print(F'{atom_name[i]} to {atom_name[j]} : {bond_length_12:0.3f}')\n",
    "#                bond_length_water_file.write(F'{atom1} to {atom2} : {distance:0.3f}\\n')"
   ]
  },
  {
   "cell_type": "code",
   "execution_count": 30,
   "metadata": {},
   "outputs": [],
   "source": [
    "#Write a new function called bond_check to check and see if a distance is between 0 and 1.5 A\n",
    "#Returen True or False\n",
    "def bond_check(distance, minimum_length=0, maximum_length=1.5):\n",
    "    \"\"\"This function checks if the distance between two atoms is between minimum_length and maximum_length\n",
    "    If distance is between minimum and maximum length, return value true else returns false\n",
    "    Defaults are minimum_length=0 and maximum_length=1.5\"\"\"\n",
    "    if distance < maximum_length and distance > minimum_length :\n",
    "        value = True\n",
    "    else:\n",
    "        value = False\n",
    "    return value"
   ]
  },
  {
   "cell_type": "code",
   "execution_count": 32,
   "metadata": {},
   "outputs": [
    {
     "data": {
      "text/plain": [
       "False"
      ]
     },
     "execution_count": 32,
     "metadata": {},
     "output_type": "execute_result"
    }
   ],
   "source": [
    "bond_check(1.5)"
   ]
  },
  {
   "cell_type": "code",
   "execution_count": null,
   "metadata": {},
   "outputs": [],
   "source": []
  }
 ],
 "metadata": {
  "kernelspec": {
   "display_name": "Python 3",
   "language": "python",
   "name": "python3"
  },
  "language_info": {
   "codemirror_mode": {
    "name": "ipython",
    "version": 3
   },
   "file_extension": ".py",
   "mimetype": "text/x-python",
   "name": "python",
   "nbconvert_exporter": "python",
   "pygments_lexer": "ipython3",
   "version": "3.7.3"
  }
 },
 "nbformat": 4,
 "nbformat_minor": 2
}
