{
 "cells": [
  {
   "cell_type": "markdown",
   "metadata": {},
   "source": [
    "# MolSSI Workshop\n",
    "## Introduction\n",
    "\n",
    "This lesson covers Python basics like variable creation and assignment using Jupiter notebook"
   ]
  },
  {
   "cell_type": "code",
   "execution_count": 1,
   "metadata": {},
   "outputs": [
    {
     "data": {
      "text/plain": [
       "10"
      ]
     },
     "execution_count": 1,
     "metadata": {},
     "output_type": "execute_result"
    }
   ],
   "source": [
    "3+7"
   ]
  },
  {
   "cell_type": "code",
   "execution_count": 6,
   "metadata": {
    "scrolled": true
   },
   "outputs": [
    {
     "name": "stdout",
     "output_type": "stream",
     "text": [
      "-3640.7000000000003\n",
      "-3640.7000000000003\n",
      "-3640700.0000000005\n"
     ]
    }
   ],
   "source": [
    "#variable_name = value\n",
    "deltaH = -541.5 #kJ/mol Unit cannot be save as part of variable. Needs to be a comment.\n",
    "deltaS = 10.4 #kJ/(mole K)\n",
    "temp = 298 #K\n",
    "deltaG = deltaH - temp*deltaS #Python needs to include multiplication sign explicitely\n",
    "print(deltaG)       #Needs this to see the value of deltaG\n",
    "deltaG_joules = deltaG*1000  #Need to assign a new variable or overwrite variable in python (different from Matlab and other programming languages)\n",
    "print(deltaG)\n",
    "print(deltaG_joules)"
   ]
  },
  {
   "cell_type": "code",
   "execution_count": 6,
   "metadata": {},
   "outputs": [
    {
     "name": "stdout",
     "output_type": "stream",
     "text": [
      "-3640.7000000000003\n",
      "<class 'float'>\n",
      "<class 'str'>\n"
     ]
    }
   ],
   "source": [
    "#I can assign all these variables at once (different syntax from previously)\n",
    "deltaH, deltaS, temp = -541.5,10.4,298\n",
    "deltaG= deltaH - temp*deltaS\n",
    "print(deltaG)\n",
    "print(type(deltaG))\n",
    "deltaG_string = str(deltaG)\n",
    "print(type(deltaG_string))\n",
    "#Can't do math on string, only on float or integers"
   ]
  },
  {
   "cell_type": "code",
   "execution_count": 7,
   "metadata": {
    "scrolled": true
   },
   "outputs": [
    {
     "name": "stdout",
     "output_type": "stream",
     "text": [
      "The length of this list is 4\n",
      "-13.4\n",
      "-11.296800000000001\n",
      "[-13.4, -2.7]\n",
      "slice 1 is [-2.7, 5.4, 42.1]\n",
      "slice 2 is [-13.4, -2.7, 5.4]\n",
      "-56.0656\n",
      "-11.296800000000001\n",
      "22.593600000000002\n",
      "176.1464\n",
      "[-56.0656, -11.296800000000001, 22.593600000000002, 176.1464]\n",
      "[-56.0656, -11.296800000000001]\n",
      "[22.593600000000002, 176.1464]\n"
     ]
    }
   ],
   "source": [
    "#This is a list\n",
    "energy_kcal = [-13.4, -2.7, 5.4, 42.1]\n",
    "#I can determine its length\n",
    "energy_length = len(energy_kcal)\n",
    "\n",
    "#print the list length\n",
    "print('The length of this list is',energy_length)\n",
    "\n",
    "#Print the first element of the list\n",
    "print(energy_kcal[0])\n",
    "\n",
    "#Convert the second list element to kilojoules\n",
    "energy_kilojoules = energy_kcal[1]*4.184\n",
    "print(energy_kilojoules)\n",
    "\n",
    "#Create slice: Create new lists that are subsets of the old list\n",
    "#new_list = list_name[start:end]\n",
    "# When taking a slice, go up to but not including starting index\n",
    "short_list = energy_kcal[0:2]\n",
    "print(short_list)\n",
    "# If you don't include start index, starts at beginning.\n",
    "#If you din't include end index, goes to the end\n",
    "slice_1 = energy_kcal[1:]\n",
    "slice_2 = energy_kcal[:3]\n",
    "print('slice 1 is',slice_1)\n",
    "print('slice 2 is', slice_2)\n",
    "\n",
    "#Loop: I want to convert all the numbers in energy_kcal to kJ. COlumn important.Python uses indentation to do things in loop\n",
    "#Variable labels element of the list we are on\n",
    "#for variable in list_name:\n",
    "#      do things with variable\n",
    "#Append new list: neeed to define list and append elements to new list\n",
    "# Show appending in new cell with new for loop for students\n",
    "energy_kJ=[]\n",
    "for number in energy_kcal:\n",
    "    kJ=number*4.184\n",
    "    print(kJ)\n",
    "    energy_kJ.append(kJ)\n",
    "print(energy_kJ)\n",
    "\n",
    "#Logic statements\n",
    "negative_energy_kJ = []\n",
    "positive_energy_kJ = []\n",
    "for number in energy_kJ:\n",
    "    if number<0 or number==0:\n",
    "        negative_energy_kJ.append(number)\n",
    "    else:\n",
    "        positive_energy_kJ.append(number)\n",
    "print(negative_energy_kJ)\n",
    "print(positive_energy_kJ)"
   ]
  },
  {
   "cell_type": "code",
   "execution_count": 33,
   "metadata": {},
   "outputs": [
    {
     "name": "stdout",
     "output_type": "stream",
     "text": [
      "[-12.5, 14.4, 8.1, 42.0]\n"
     ]
    }
   ],
   "source": [
    "#Exercise\n",
    "data_list = ['-12.5', 14.4, 8.1, '42']\n",
    "number_list=[]\n",
    "for element in data_list:\n",
    "    if type(element)== str:\n",
    "        element=float(element)\n",
    "    number_list.append(element)\n",
    "print(number_list)"
   ]
  },
  {
   "cell_type": "code",
   "execution_count": 35,
   "metadata": {},
   "outputs": [
    {
     "name": "stdout",
     "output_type": "stream",
     "text": [
      "\u001b[1m\u001b[32mbenzene.xyz\u001b[m\u001b[m*               \u001b[1m\u001b[34moutfiles\u001b[m\u001b[m/\r\n",
      "\u001b[1m\u001b[32mbuckminsterfullerene.xyz\u001b[m\u001b[m*  \u001b[1m\u001b[32msapt.out\u001b[m\u001b[m*\r\n",
      "\u001b[1m\u001b[32mdistance_data_headers.csv\u001b[m\u001b[m* \u001b[1m\u001b[32mwater.xyz\u001b[m\u001b[m*\r\n"
     ]
    }
   ],
   "source": [
    "ls data"
   ]
  },
  {
   "cell_type": "code",
   "execution_count": 36,
   "metadata": {},
   "outputs": [
    {
     "data": {
      "text/plain": [
       "'/Users/emilieguidez/Desktop/python_workshop/cms-workshop'"
      ]
     },
     "execution_count": 36,
     "metadata": {},
     "output_type": "execute_result"
    }
   ],
   "source": [
    "pwd"
   ]
  },
  {
   "cell_type": "code",
   "execution_count": 17,
   "metadata": {},
   "outputs": [
    {
     "name": "stdout",
     "output_type": "stream",
     "text": [
      "data/outfiles/ethanol.out\n",
      "270\n",
      "  @DF-RHF Final Energy:  -154.09130176573018\n",
      "\n",
      "['  @DF-RHF Final Energy', '  -154.09130176573018\\n']\n",
      "['@DF-RHF', 'Final', 'Energy:', '-154.09130176573018']\n",
      "-154.09130176573018\n"
     ]
    },
    {
     "data": {
      "text/plain": [
       "-104.09130176573018"
      ]
     },
     "execution_count": 17,
     "metadata": {},
     "output_type": "execute_result"
    }
   ],
   "source": [
    "import os\n",
    "ethanol_file = os.path.join('data','outfiles','ethanol.out')\n",
    "print(ethanol_file)\n",
    "\n",
    "#Read ethanol file\n",
    "#outfile is a pointer that points to ethanol_file\n",
    "outfile = open(ethanol_file,\"r\")\n",
    "#Readlines reads the file. Every line in the file is an element in data\n",
    "data=outfile.readlines()\n",
    "print(len(data))\n",
    "outfile.close()\n",
    "\n",
    "#Print final energy of ethanol\n",
    "for line in data:\n",
    "    if 'Final Energy' in line:\n",
    "        energy_line=line\n",
    "        print(energy_line)\n",
    "delimiter = energy_line.split(':')\n",
    "print(delimiter)\n",
    "words = energy_line.split()\n",
    "print(words)\n",
    "energy=words[3]\n",
    "print(energy)\n",
    "energy=float(energy)\n",
    "energy+50"
   ]
  },
  {
   "cell_type": "code",
   "execution_count": 69,
   "metadata": {},
   "outputs": [
    {
     "name": "stdout",
     "output_type": "stream",
     "text": [
      "Electrostatics = -2.25850118 kcal/mol\n",
      "Exchange = 2.27730198 kcal/mol\n",
      "Induction = -0.51572219 kcal/mol\n",
      "Dispersion = -0.94302016 kcal/mol\n",
      "Total = -1.43994155 kcal/mol\n",
      "109\n",
      "220\n",
      "239\n",
      "282\n",
      "301\n",
      "478\n",
      "589\n",
      "608\n",
      "651\n",
      "670\n",
      "709\n",
      "728\n",
      "767\n",
      "786\n",
      "959\n",
      "1070\n",
      "1089\n",
      "1128\n",
      "1147\n",
      "1186\n",
      "1205\n",
      "1248\n",
      "1267\n",
      "         C            0.000000000000    -0.667578000000    -2.128156293689    12.000000000000\n",
      "\n",
      "\n",
      "\n",
      "         C            0.000000000000     0.667578000000    -2.128156293689    12.000000000000\n",
      "\n",
      "\n",
      "\n",
      "         H            0.923621000000    -1.232253000000    -2.129682293689     1.007825032070\n",
      "\n",
      "\n",
      "\n",
      "         H           -0.923621000000    -1.232253000000    -2.129682293689     1.007825032070\n",
      "\n",
      "\n",
      "\n",
      "         H           -0.923621000000     1.232253000000    -2.129682293689     1.007825032070\n",
      "\n",
      "\n",
      "\n",
      "         H            0.923621000000     1.232253000000    -2.129682293689     1.007825032070\n",
      "\n",
      "\n",
      "\n",
      "         C            0.000000000000     0.000000000000     2.897005706311    12.000000000000\n",
      "\n",
      "\n",
      "\n",
      "         C            0.000000000000     0.000000000000     1.689742706311    12.000000000000\n",
      "\n",
      "\n",
      "\n",
      "         H            0.000000000000     0.000000000000     0.623854706311     1.007825032070\n",
      "\n",
      "\n",
      "\n"
     ]
    }
   ],
   "source": [
    "#Analysis of SAPT output file\n",
    "sapt_file_path = os.path.join('data','sapt.out')\n",
    "sapt_file = open(sapt_file_path,'r')\n",
    "sapt_data=sapt_file.readlines()\n",
    "for line in sapt_data:\n",
    "    if 'sSAPT0' in line:\n",
    "        interaction_energy_line = line.split()\n",
    "        interaction = interaction_energy_line[0]\n",
    "        interaction_energy = interaction_energy_line[4]\n",
    "        print(interaction,'=',interaction_energy,'kcal/mol')\n",
    "\n",
    "for linenum, line in enumerate(sapt_data):\n",
    "    if 'Center' in line:\n",
    "        print(linenum)\n",
    "coordinates = sapt_data[111:120]\n",
    "for element in coordinates:\n",
    "    print(element)\n",
    "    print('\\n')"
   ]
  },
  {
   "cell_type": "code",
   "execution_count": 33,
   "metadata": {},
   "outputs": [
    {
     "name": "stdout",
     "output_type": "stream",
     "text": [
      "data/outfiles\n",
      "data/outfiles/*.out\n",
      "['data/outfiles/propanol.out', 'data/outfiles/pentanol.out', 'data/outfiles/decanol.out', 'data/outfiles/methanol.out', 'data/outfiles/octanol.out', 'data/outfiles/ethanol.out', 'data/outfiles/hexanol.out', 'data/outfiles/heptanol.out', 'data/outfiles/butanol.out', 'data/outfiles/nonanol.out']\n",
      "propanol -193.128\n",
      "\n",
      "pentanol -271.201\n",
      "\n",
      "decanol -466.384\n",
      "\n",
      "methanol -115.048\n",
      "\n",
      "octanol -388.311\n",
      "\n",
      "ethanol -154.091\n",
      "\n",
      "hexanol -310.239\n",
      "\n",
      "heptanol -349.274\n",
      "\n",
      "butanol -232.166\n",
      "\n",
      "nonanol -427.347\n",
      "\n"
     ]
    }
   ],
   "source": [
    "#Parsing multiple files at once\n",
    "import os\n",
    "import glob\n",
    "#Call a function in a library\n",
    "#output = library_name.function_name(input)\n",
    "file_directory = os.path.join(\"data\",\"outfiles\")\n",
    "print(file_directory)\n",
    "#Use a wildcard *: \"*.out\"\n",
    "file_location = os.path.join(file_directory,\"*.out\")\n",
    "print(file_location)\n",
    "#Specify all the filenames that are .out in file_directory. List of filenames (data type is list)\n",
    "filenames = glob.glob(file_location)\n",
    "print(filenames)\n",
    "\n",
    "\n",
    "#If file does not exist, + will create it\n",
    "#w will overwrite if file exists\n",
    "energy_file_name = open('energy_file.txt',\"w+\")\n",
    "for filenum, file in enumerate(filenames):\n",
    "    filename = os.path.basename(filenames[filenum])\n",
    "#    print(filename)\n",
    "    split_filename = filename.split('.')\n",
    "#    print (split_filename)\n",
    "#    print (split_filename[0])\n",
    "    outfile = open(file,'r')\n",
    "#    energy_file_name = open('energy_file.txt',\"a+\")\n",
    "    data = outfile.readlines()\n",
    "    outfile.close()\n",
    "    for line in data:\n",
    "        if 'Final Energy' in line:\n",
    "            energy_line = line\n",
    "            words = energy_line.split()\n",
    "            energy = float(words[3])\n",
    "            print(F'{split_filename[0]} {energy:.3f}\\n')\n",
    "#            energy_file_name.write(F'{split_filename[0]} \\t {energy} \\n')\n",
    "            # F is for formated string. works only in python3\n",
    "            energy_file_name.write(F'The energy of the molecule {split_filename[0]} is {energy:.3f} kcal/mol.\\n')\n",
    "energy_file_name.close()\n",
    "\n",
    "first_file=filenames[0]\n",
    "#print(first_file)\n",
    "file_name = os.path.basename(first_file)\n",
    "#print(file_name)"
   ]
  },
  {
   "cell_type": "code",
   "execution_count": 66,
   "metadata": {},
   "outputs": [
    {
     "name": "stdout",
     "output_type": "stream",
     "text": [
      "[[1.00000e+00 8.95420e+00 5.80240e+00 1.15478e+01 9.95570e+00]\n",
      " [2.00000e+00 8.61810e+00 6.09420e+00 1.39594e+01 1.16945e+01]\n",
      " [3.00000e+00 9.00660e+00 6.06370e+00 1.30924e+01 1.13043e+01]\n",
      " ...\n",
      " [9.99800e+03 8.66250e+00 7.73060e+00 9.54690e+00 1.03063e+01]\n",
      " [9.99900e+03 9.24560e+00 7.88860e+00 9.81510e+00 1.07564e+01]\n",
      " [1.00000e+04 8.81350e+00 7.91700e+00 9.95170e+00 1.07848e+01]]\n",
      "[[ 1.      8.9542  5.8024]\n",
      " [ 2.      8.6181  6.0942]\n",
      " [ 3.      9.0066  6.0637]\n",
      " [ 4.      9.2002  6.0227]\n",
      " [ 5.      9.1294  5.9365]\n",
      " [ 6.      9.0462  6.2553]\n",
      " [ 7.      8.8657  5.9186]\n",
      " [ 8.      9.3256  6.2351]\n",
      " [ 9.      9.4184  6.1993]\n",
      " [10.      9.06    6.0478]]\n",
      "[6.     9.0462 6.2553]\n",
      "[[8.9542 5.8024]\n",
      " [8.6181 6.0942]\n",
      " [9.0066 6.0637]\n",
      " [9.2002 6.0227]\n",
      " [9.1294 5.9365]\n",
      " [9.0462 6.2553]\n",
      " [8.8657 5.9186]\n",
      " [9.3256 6.2351]\n",
      " [9.4184 6.1993]\n",
      " [9.06   6.0478]]\n",
      "10.876950930000001\n",
      "3.2980222755463617\n",
      "5\n",
      "THR4_ATP: 10.876950930000001\n",
      "\n",
      "THR4_ASP: 7.342344959999999\n",
      "\n",
      "TYR6_ATP: 11.209791329999998\n",
      "\n",
      "TYR6_ASP: 10.9934435\n",
      "\n"
     ]
    },
    {
     "data": {
      "image/png": "[encoded data removed]",
      "text/plain": [
       "<Figure size 432x288 with 1 Axes>"
      ]
     },
     "metadata": {
      "needs_background": "light"
     },
     "output_type": "display_data"
    },
    {
     "data": {
      "image/png": "[encoded data removed]",
      "text/plain": [
       "<Figure size 432x288 with 1 Axes>"
      ]
     },
     "metadata": {
      "needs_background": "light"
     },
     "output_type": "display_data"
    }
   ],
   "source": [
    "#Working with tabular data\n",
    "import numpy\n",
    "import os\n",
    "#help(numpy.genfromtxt)\n",
    "#Find the file on the computer and call it distance_file (variable in python used to refer to distance_data_headers)\n",
    "distance_file = os.path.join('data','distance_data_headers.csv')\n",
    "distances = numpy.genfromtxt(fname = distance_file, delimiter=',', dtype='unicode')\n",
    "#Each line corresponds to 1 element in the array of strings'distances'\n",
    "#print(distances)\n",
    "#Separate data into headers and actual numbers using slices\n",
    "headers=distances[0]\n",
    "#print(headers)\n",
    "sliced_data=distances[1:]\n",
    "#print(sliced_data)\n",
    "#Change data type since we can only perform operations with float. Convert all numbers in data into float\n",
    "data=sliced_data.astype(numpy.float)\n",
    "print(data)\n",
    "#First number is sub-array number second number is the element number in the sub_list\n",
    "#print(data[0,1])\n",
    "#print(data[1,0])\n",
    "#Print first three columns of first ten lines of the file\n",
    "small_data=data[0:10,0:3]\n",
    "print(small_data)\n",
    "#Print all data from time step number 6 (remember start counting at 0)\n",
    "print(small_data[5,:])\n",
    "#Print second and third column for all time steps\n",
    "print(small_data[:,1:])\n",
    "\n",
    "#We are going to analyze the data. \n",
    "#With numpy, we can perform common operations on data without writing functions\n",
    "#Define which column we are going to average\n",
    "thr4_atp = data[:,1]\n",
    "#library_name.function\n",
    "#Taake average value of the column\n",
    "#data_average = numpy.mean(data_set)\n",
    "avg_thr4_atp = numpy.mean(thr4_atp)\n",
    "print(avg_thr4_atp)\n",
    "sqrt_avg = numpy.sqrt(avg_thr4_atp)\n",
    "print(sqrt_avg)\n",
    "\n",
    "\n",
    "#We now want to take the average of every column. \n",
    "#We first need to define the number of columns in the data\n",
    "#Number of columns in data set:\n",
    "#data[0,:]: first line all columns\n",
    "num_columns=len(data[0,:])\n",
    "print(num_columns)\n",
    "\n",
    "#Take the average of every column\n",
    "#range(start,end)\n",
    "#start from 1 because we don't care about averaging frame numbers\n",
    "for i in range(1,num_columns):\n",
    "    column = data[:,i]\n",
    "    avg_col=numpy.mean(column)\n",
    "    print(F'{headers[i]}: {avg_col}\\n')\n",
    "    \n",
    "#Plotting data\n",
    "import matplotlib.pyplot as plt\n",
    "\n",
    "#Initialize a figure\n",
    "#plt.figure()\n",
    "#plt.plot(data[:,2])\n",
    "\n",
    "sample = headers[1]\n",
    "plt.figure()\n",
    "plt.xlabel('simulation frame')\n",
    "plt.ylabel('distance (angstrom)')\n",
    "\n",
    "#Plot x axis as frame column, y axis as second column. Plot every hundred row\n",
    "fig_1 = plt.plot(data[0::100,0], data[0::100,1], ':xr', label=sample)\n",
    "plt.legend()\n",
    "plt.savefig(F'{sample}.png', dpi = 300)\n",
    "\n",
    "#Plot multiple figures\n",
    "plt.figure()\n",
    "plt.xlabel('Frame')\n",
    "plt.ylabel('Distance (angstroms)')\n",
    "\n",
    "for i in range(1,num_columns):\n",
    "    fig2 = plt.plot(data[:,i],label=headers[i])\n",
    "plt.legend()\n",
    "plt.savefig(F'{sample}.png', dpi = 300)\n",
    "\n"
   ]
  },
  {
   "cell_type": "code",
   "execution_count": 65,
   "metadata": {},
   "outputs": [
    {
     "name": "stdout",
     "output_type": "stream",
     "text": [
      "O to H1 : 0.969\n",
      "O to H2 : 0.969\n"
     ]
    }
   ],
   "source": [
    "#Print distances between atoms in .xyz file in data folder\n",
    "water_file_path = os.path.join('data','water.xyz')\n",
    "bond_length_water_file_location = os.path.join('data','bond_length_water.txt')\n",
    "data = numpy.genfromtxt(fname = water_file_path, skip_header=2, dtype='unicode')\n",
    "atom_name = data[:,0]\n",
    "atom_coord = data[:,1:4]\n",
    "atom_data = atom_coord.astype(numpy.float)\n",
    "atom_num=len(data)\n",
    "\n",
    "bond_length_water_file=open(bond_length_water_file_location,'w')\n",
    "for i in range(0, int(atom_num)):\n",
    "    for j in range(0,int(atom_num)):\n",
    "# Remove the next line for Geometry analysis project\n",
    "#        if i!=j:\n",
    "# Next line for extension 2\n",
    "         if i < j:\n",
    "            atom1 = atom_name[i]\n",
    "            atom2 = atom_name[j]\n",
    "            x_dist = float(atom_data[i,0])-float(atom_data[j,0])\n",
    "            y_dist = float(atom_data[i,1])-float(atom_data[j,1])\n",
    "            z_dist = float(atom_data[i,2])-float(atom_data[j,2])\n",
    "            distance = numpy.sqrt((x_dist**2)+(y_dist**2)+(z_dist**2))\n",
    "#Remove next line for Geometry analysis project\n",
    "            if distance <= 1.5:\n",
    "                print(F'{atom1} to {atom2} : {distance:0.3f}')\n",
    "                bond_length_water_file.write(F'{atom1} to {atom2} : {distance:0.3f}\\n')\n",
    "bond_length_water_file.close()\n"
   ]
  },
  {
   "cell_type": "code",
   "execution_count": null,
   "metadata": {},
   "outputs": [],
   "source": []
  }
 ],
 "metadata": {
  "kernelspec": {
   "display_name": "Python 3",
   "language": "python",
   "name": "python3"
  },
  "language_info": {
   "codemirror_mode": {
    "name": "ipython",
    "version": 3
   },
   "file_extension": ".py",
   "mimetype": "text/x-python",
   "name": "python",
   "nbconvert_exporter": "python",
   "pygments_lexer": "ipython3",
   "version": "3.7.3"
  }
 },
 "nbformat": 4,
 "nbformat_minor": 2
}
